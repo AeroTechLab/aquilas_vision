{
 "cells": [
  {
   "cell_type": "markdown",
   "metadata": {},
   "source": [
    "This iPythonNotebook can be used to experiment with the surgery toolkit, where the user will be able to modify the network with their rules. The modified network can be itself used to further train on the desired dataset. This allows user to easily modify any network."
   ]
  },
  {
   "cell_type": "code",
   "execution_count": 1,
   "metadata": {},
   "outputs": [
    {
     "name": "stdout",
     "output_type": "stream",
     "text": [
      "Requirement already satisfied: netron in /home/a0491009/.pyenv/versions/3.10.13/envs/quant/lib/python3.10/site-packages (7.8.3)\n",
      "\n",
      "\u001b[1m[\u001b[0m\u001b[34;49mnotice\u001b[0m\u001b[1;39;49m]\u001b[0m\u001b[39;49m A new release of pip is available: \u001b[0m\u001b[31;49m24.0\u001b[0m\u001b[39;49m -> \u001b[0m\u001b[32;49m24.2\u001b[0m\n",
      "\u001b[1m[\u001b[0m\u001b[34;49mnotice\u001b[0m\u001b[1;39;49m]\u001b[0m\u001b[39;49m To update, run: \u001b[0m\u001b[32;49mpip install --upgrade pip\u001b[0m\n"
     ]
    },
    {
     "name": "stderr",
     "output_type": "stream",
     "text": [
      "/home/a0491009/.pyenv/versions/quant/lib/python3.10/site-packages/tqdm-4.66.2-py3.10.egg/tqdm/auto.py:21: TqdmWarning: IProgress not found. Please update jupyter and ipywidgets. See https://ipywidgets.readthedocs.io/en/stable/user_install.html\n",
      "  from .autonotebook import tqdm as notebook_tqdm\n",
      "/home/a0491009/quantization/edgeai-modeloptimization/torchmodelopt/edgeai_torchmodelopt/xmodelopt/quantization/v2/qconfig_types.py:51: UserWarning: could not find _get_default_qconfig_mapping_with_default_qconfig in torch.ao.quantization.qconfig_mapping\n",
      "  warnings.warn(\"could not find _get_default_qconfig_mapping_with_default_qconfig in torch.ao.quantization.qconfig_mapping\")\n"
     ]
    }
   ],
   "source": [
    "!pip install netron\n",
    "\n",
    "import torch\n",
    "import torch.nn as nn\n",
    "import edgeai_torchmodelopt\n",
    "import copy\n",
    "import netron"
   ]
  },
  {
   "cell_type": "markdown",
   "metadata": {},
   "source": [
    "The required imports are done, netron is installed and used to visualize the network. "
   ]
  },
  {
   "cell_type": "code",
   "execution_count": 2,
   "metadata": {},
   "outputs": [
    {
     "name": "stdout",
     "output_type": "stream",
     "text": [
      "SimpleNetwork(\n",
      "  (conv0): Conv2d(3, 32, kernel_size=(3, 3), stride=(2, 2), padding=(1, 1))\n",
      "  (bn0): BatchNorm2d(32, eps=1e-05, momentum=0.1, affine=True, track_running_stats=True)\n",
      "  (relu0): ReLU()\n",
      "  (conv1): Conv2d(32, 32, kernel_size=(3, 3), stride=(2, 2), padding=(1, 1))\n",
      "  (bn1): BatchNorm2d(32, eps=1e-05, momentum=0.1, affine=True, track_running_stats=True)\n",
      "  (relu1): ReLU()\n",
      "  (conv2): Conv2d(32, 32, kernel_size=(3, 3), stride=(2, 2), padding=(1, 1))\n",
      "  (bn2): BatchNorm2d(32, eps=1e-05, momentum=0.1, affine=True, track_running_stats=True)\n",
      "  (relu2): ReLU()\n",
      ")\n",
      "Output Shape is : torch.Size([1, 32, 28, 28])\n"
     ]
    }
   ],
   "source": [
    "class SimpleNetwork(nn.Module):\n",
    "    def __init__(self):\n",
    "        super().__init__()\n",
    "        self.conv0 = nn.Conv2d(3, 32, 3, padding=1, stride=2)\n",
    "        self.bn0 = nn.BatchNorm2d(32)\n",
    "        self.relu0 = nn.ReLU()\n",
    "        \n",
    "        self.conv1 = nn.Conv2d(32, 32, 3, padding=1, stride=2)\n",
    "        self.bn1 = nn.BatchNorm2d(32)\n",
    "        self.relu1 = nn.ReLU()\n",
    "        \n",
    "        self.conv2 = nn.Conv2d(32, 32, 3, padding=1, stride=2)\n",
    "        self.bn2 = nn.BatchNorm2d(32)\n",
    "        self.relu2 = nn.ReLU()\n",
    "        \n",
    "    def forward(self, x):\n",
    "        x = self.conv0(x)\n",
    "        x = self.bn0(x)\n",
    "        x = self.relu0(x)\n",
    "    \n",
    "        x = self.conv1(x)\n",
    "        x = self.bn1(x)\n",
    "        x = self.relu1(x)\n",
    "    \n",
    "        x = self.conv2(x)\n",
    "        x = self.bn2(x)\n",
    "        x = self.relu2(x)\n",
    "    \n",
    "        return x\n",
    "    \n",
    "model = SimpleNetwork()\n",
    "example_input = torch.ones((1, 3, 224, 224))\n",
    "\n",
    "y = model(example_input)\n",
    "print(model)\n",
    "print(\"Output Shape is : {}\".format(y.shape))"
   ]
  },
  {
   "cell_type": "code",
   "execution_count": 3,
   "metadata": {},
   "outputs": [
    {
     "name": "stdout",
     "output_type": "stream",
     "text": [
      "Serving './orig_simple_network_surgery.onnx' at http://localhost:8081\n"
     ]
    },
    {
     "data": {
      "text/plain": [
       "('localhost', 8081)"
      ]
     },
     "execution_count": 3,
     "metadata": {},
     "output_type": "execute_result"
    }
   ],
   "source": [
    "model_export_name = \"./orig_simple_network_surgery.onnx\"\n",
    "torch.onnx.export(model, example_input, model_export_name)\n",
    "netron.start(model_export_name, 8081)"
   ]
  },
  {
   "cell_type": "markdown",
   "metadata": {},
   "source": [
    "We can get a default dictionary for optimization based on the most optimal conversions for TIDL. These changes might require re-training of the network. The user can use the flag : can_retrain=False, to only do the modifications which do not require retraining. The replacement dictionary can be defined by the user as well."
   ]
  },
  {
   "cell_type": "code",
   "execution_count": 4,
   "metadata": {},
   "outputs": [
    {
     "name": "stdout",
     "output_type": "stream",
     "text": [
      "<class 'timm.layers.squeeze_excite.SEModule'> ---> <class 'torch.nn.modules.linear.Identity'>\n",
      "\n",
      "SEModule(\n",
      "  (sequence): Sequential(\n",
      "    (0): AdaptiveAvgPool2d(output_size=1)\n",
      "    (1): Conv2d(16, 32, kernel_size=(1, 1), stride=(1, 1))\n",
      "    (2): ReLU()\n",
      "    (3): Conv2d(32, 16, kernel_size=(1, 1), stride=(1, 1))\n",
      "    (4): Hardsigmoid()\n",
      "  )\n",
      ") ---> Identity()\n",
      "\n",
      "SEModule1(\n",
      "  (sequence): Sequential(\n",
      "    (0): AdaptiveAvgPool2d(output_size=1)\n",
      "    (1): Conv2d(16, 32, kernel_size=(1, 1), stride=(1, 1))\n",
      "    (2): SiLU()\n",
      "    (3): Conv2d(32, 16, kernel_size=(1, 1), stride=(1, 1))\n",
      "    (4): Sigmoid()\n",
      "  )\n",
      ") ---> Identity()\n",
      "\n",
      "CNBlock ---> <function replace_cnblock at 0x7078f851b520>\n",
      "\n",
      "ReLU(inplace=True) ---> ReLU()\n",
      "\n",
      "Hardswish() ---> ReLU()\n",
      "\n",
      "ReLU6() ---> ReLU()\n",
      "\n",
      "ReLU() ---> ReLU()\n",
      "\n",
      "SiLU() ---> ReLU()\n",
      "\n",
      "Hardsigmoid() ---> ReLU()\n",
      "\n",
      "LeakyReLU(negative_slope=0.01) ---> ReLU()\n",
      "\n",
      "Dropout(p=0.5, inplace=True) ---> Dropout(p=0.5, inplace=False)\n",
      "\n",
      "Focus() ---> OptimizedFocus()\n",
      "\n",
      "Focus() ---> OptimizedFocus()\n",
      "\n",
      "upsample ---> <function replace_resize_with_scale_factor at 0x7078f851a290>\n",
      "\n",
      "maxpool_ge_5 ---> <function replace_maxpool2d_kernel_size_ge_5 at 0x7078f851b2e0>\n",
      "\n",
      "avgpool_ge_5 ---> <function replace_avgpool2d_kernel_size_ge_5 at 0x7078f851b370>\n",
      "\n",
      "conv_ge_7 ---> <function replace_conv2d_kernel_size_gt_7 at 0x7078f851b400>\n",
      "\n",
      "conv_6 ---> <function replace_conv2d_kernel_size_6 at 0x7078f851b490>\n",
      "\n"
     ]
    }
   ],
   "source": [
    "replacement_dict = copy.deepcopy(edgeai_torchmodelopt.xmodelopt.surgery.v2.get_replacement_dict_default(can_retrain=True))\n",
    "for orig, replace in replacement_dict.items():\n",
    "    print(str(orig) + \" ---> \" + str(replace) + \"\\n\")\n"
   ]
  },
  {
   "cell_type": "markdown",
   "metadata": {},
   "source": [
    "The replacement dictionary can be defined by the user as well. Multiple other methods including functions are supported which can be read more about [over here](../edgeai_torchmodelopt/xmodelopt/surgery/v2/docs/details.md) under the different-types-of-possible-replacement-rules section.\n",
    "The converted model can be obtained by a simple call to edgeai_torchmodelopt.xmodelopt.surgery.v2.convert_to_lite_fx function."
   ]
  },
  {
   "cell_type": "code",
   "execution_count": 10,
   "metadata": {},
   "outputs": [
    {
     "name": "stdout",
     "output_type": "stream",
     "text": [
      "SimpleNetwork(\n",
      "  (conv0): Conv2d(3, 32, kernel_size=(3, 3), stride=(2, 2), padding=(1, 1))\n",
      "  (bn0): BatchNorm2d(32, eps=1e-05, momentum=0.1, affine=True, track_running_stats=True)\n",
      "  (relu0): GELU(approximate='none')\n",
      "  (conv1): Conv2d(32, 32, kernel_size=(3, 3), stride=(2, 2), padding=(1, 1))\n",
      "  (bn1): BatchNorm2d(32, eps=1e-05, momentum=0.1, affine=True, track_running_stats=True)\n",
      "  (relu1): GELU(approximate='none')\n",
      "  (conv2): Conv2d(32, 32, kernel_size=(3, 3), stride=(2, 2), padding=(1, 1))\n",
      "  (bn2): BatchNorm2d(32, eps=1e-05, momentum=0.1, affine=True, track_running_stats=True)\n",
      "  (relu2): GELU(approximate='none')\n",
      ")\n",
      "\n",
      "\n",
      "\n",
      "def forward(self, x):\n",
      "    conv0 = self.conv0(x);  x = None\n",
      "    bn0 = self.bn0(conv0);  conv0 = None\n",
      "    relu0 = self.relu0(bn0);  bn0 = None\n",
      "    conv1 = self.conv1(relu0);  relu0 = None\n",
      "    bn1 = self.bn1(conv1);  conv1 = None\n",
      "    relu1 = self.relu1(bn1);  bn1 = None\n",
      "    conv2 = self.conv2(relu1);  relu1 = None\n",
      "    bn2 = self.bn2(conv2);  conv2 = None\n",
      "    relu2 = self.relu2(bn2);  bn2 = None\n",
      "    return relu2\n",
      "    \n",
      "# To see more debug info, please use `graph_module.print_readable()`\n"
     ]
    }
   ],
   "source": [
    "replacement_dict = ({torch.nn.ReLU: torch.nn.GELU})\n",
    "converted_model = edgeai_torchmodelopt.xmodelopt.surgery.v2.convert_to_lite_fx(model, replacement_dict=replacement_dict)\n",
    "print(converted_model)"
   ]
  },
  {
   "cell_type": "code",
   "execution_count": 11,
   "metadata": {},
   "outputs": [
    {
     "name": "stdout",
     "output_type": "stream",
     "text": [
      "Stopping http://localhost:8081\n",
      "Serving './converted_simple_network_surgery.onnx' at http://localhost:8081\n"
     ]
    },
    {
     "data": {
      "text/plain": [
       "('localhost', 8081)"
      ]
     },
     "execution_count": 11,
     "metadata": {},
     "output_type": "execute_result"
    }
   ],
   "source": [
    "model_export_name = \"./converted_simple_network_surgery.onnx\"\n",
    "torch.onnx.export(converted_model, example_input, model_export_name)\n",
    "netron.start(model_export_name, 8081)"
   ]
  }
 ],
 "metadata": {
  "kernelspec": {
   "display_name": "quant",
   "language": "python",
   "name": "python3"
  },
  "language_info": {
   "codemirror_mode": {
    "name": "ipython",
    "version": 3
   },
   "file_extension": ".py",
   "mimetype": "text/x-python",
   "name": "python",
   "nbconvert_exporter": "python",
   "pygments_lexer": "ipython3",
   "version": "3.10.13"
  }
 },
 "nbformat": 4,
 "nbformat_minor": 2
}
