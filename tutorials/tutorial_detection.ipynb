{
 "cells": [
  {
   "cell_type": "markdown",
   "id": "3a5c3202",
   "metadata": {},
   "source": [
    "## Model Compilation Jupyter Notebook Example\n",
    "\n",
    "This notebook shows the example of model compilation using edgeai-benchmark.\n",
    "\n",
    "This script uses TIDL to compile a model and output in a format that edgeai-sdk can understand.\n",
    "\n",
    "edgeai_benchmark is a python package provided in edgeai-benchmark that provides several functions to assist model compilation."
   ]
  },
  {
   "cell_type": "code",
   "execution_count": 1,
   "id": "06fd730f",
   "metadata": {},
   "outputs": [],
   "source": [
    "import os\n",
    "import tempfile\n",
    "import argparse\n",
    "import cv2\n",
    "import yaml\n",
    "import shutil\n",
    "from edgeai_benchmark import *"
   ]
  },
  {
   "cell_type": "code",
   "execution_count": 2,
   "id": "c4f68d52",
   "metadata": {},
   "outputs": [
    {
     "name": "stdout",
     "output_type": "stream",
     "text": [
      "TIDL_TOOLS_PATH= /data/ssd/files/a0393608/work/code/ti/edgeai-algo/edgeai-benchmark/tools/AM62A/tidl_tools\n",
      "LD_LIBRARY_PATH= /home/a0393608local/.pyenv/versions/3.10.14/envs/benchmark/lib/python3.10/site-packages/cv2/../../lib64:/data/ssd/files/a0393608/work/code/ti/edgeai-algo/edgeai-benchmark/tools/AM62A/tidl_tools:\n",
      "TARGET_SOC= AM62A\n",
      "INFO: current dir is: /data/ssd/files/a0393608/work/code/ti/edgeai-algo/edgeai-benchmark\n"
     ]
    }
   ],
   "source": [
    "# the cwd must be the root of the respository\n",
    "if os.path.split(os.getcwd())[-1] in ('scripts', 'tutorials'):\n",
    "    os.chdir('../')\n",
    "#\n",
    "\n",
    "assert ('TIDL_TOOLS_PATH' in os.environ and 'LD_LIBRARY_PATH' in os.environ and\n",
    "        'TARGET_SOC' in os.environ), \"Check the environment variables\"\n",
    "print(\"TIDL_TOOLS_PATH=\", os.environ['TIDL_TOOLS_PATH'])\n",
    "print(\"LD_LIBRARY_PATH=\", os.environ['LD_LIBRARY_PATH'])\n",
    "print(\"TARGET_SOC=\", os.environ['TARGET_SOC'])\n",
    "\n",
    "print(f\"INFO: current dir is: {os.getcwd()}\")"
   ]
  },
  {
   "cell_type": "markdown",
   "id": "6e4bf6ec",
   "metadata": {},
   "source": [
    "#### Create a temporary directory. \n",
    "\n",
    "This is were the compiled artifacts will be stored."
   ]
  },
  {
   "cell_type": "code",
   "execution_count": 3,
   "id": "ed12c333",
   "metadata": {},
   "outputs": [
    {
     "name": "stdout",
     "output_type": "stream",
     "text": [
      "INFO: clearing modelartifacts: /data/ssd/files/a0393608/work/code/ti/edgeai-algo/edgeai-benchmark/work_dirs_custom/modelartifacts\n"
     ]
    }
   ],
   "source": [
    "modelartifacts_tempdir_name = os.path.abspath('./work_dirs_custom')\n",
    "modelartifacts_custom = os.path.join(modelartifacts_tempdir_name, 'modelartifacts')\n",
    "print(f'INFO: clearing modelartifacts: {modelartifacts_custom}')\n",
    "if os.path.exists(modelartifacts_custom):\n",
    "    shutil.rmtree(modelartifacts_custom)\n",
    "#"
   ]
  },
  {
   "cell_type": "markdown",
   "id": "f9acd99c",
   "metadata": {},
   "source": [
    "#### Read settings from settings_import_on_pc.yaml\n",
    "\n",
    "Modify the settings as necessary in the constructor of settings.ConfigSettings()"
   ]
  },
  {
   "cell_type": "code",
   "execution_count": 4,
   "id": "b5b47491",
   "metadata": {},
   "outputs": [],
   "source": [
    "settings = config_settings.CustomConfigSettings('./settings_import_on_pc.yaml',\n",
    "                target_device = os.environ['TARGET_SOC'], target_machine = constants.TARGET_MACHINE_PC_EMULATION,\n",
    "                modelartifacts_path=modelartifacts_custom,\n",
    "                calibration_frames=10, calibration_iterations=10, num_frames=100)\n",
    "\n",
    "work_dir = os.path.join(settings.modelartifacts_path, f'{settings.tensor_bits}bits')"
   ]
  },
  {
   "cell_type": "markdown",
   "id": "5937d8b1",
   "metadata": {},
   "source": [
    "#### Create Dataset Reader classes\n",
    "\n",
    "Change the dataset paths according to your dataset location"
   ]
  },
  {
   "cell_type": "code",
   "execution_count": 5,
   "id": "90745b38",
   "metadata": {},
   "outputs": [
    {
     "name": "stdout",
     "output_type": "stream",
     "text": [
      "\u001b[34m\n",
      "INFO:\u001b[33m20250226-141511: dataset exists - will reuse - \u001b[39m./dependencies/datasets/coco\n",
      "loading annotations into memory...\n",
      "Done (t=0.57s)\n",
      "creating index...\n",
      "index created!\n",
      "\u001b[34m\n",
      "INFO:\u001b[33m20250226-141512: dataset exists - will reuse - \u001b[39m./dependencies/datasets/coco\n",
      "loading annotations into memory...\n",
      "Done (t=0.55s)\n",
      "creating index...\n",
      "index created!\n"
     ]
    }
   ],
   "source": [
    "dataset_calib_cfg = dict(\n",
    "    path=f'{settings.datasets_path}/coco',\n",
    "    split='val2017',\n",
    "    shuffle=True,\n",
    "    num_frames=min(settings.calibration_frames,5000),\n",
    "    name='coco'\n",
    ")\n",
    "\n",
    "# dataset parameters for actual inference\n",
    "dataset_val_cfg = dict(\n",
    "    path=f'{settings.datasets_path}/coco',\n",
    "    split='val2017',\n",
    "    shuffle=False, # can be set to True as well, if needed\n",
    "    num_frames=min(settings.num_frames,5000),\n",
    "    name='coco'\n",
    ")\n",
    "\n",
    "calib_dataset = datasets.COCODetection(**dataset_calib_cfg, download=True)\n",
    "val_dataset = datasets.COCODetection(**dataset_val_cfg, download=True)"
   ]
  },
  {
   "cell_type": "markdown",
   "id": "fb928333",
   "metadata": {},
   "source": [
    "#### Session runtime_options\n",
    "\n",
    "The default runtime_options can be overriden by passing a runtime_options dict to this function"
   ]
  },
  {
   "cell_type": "code",
   "execution_count": 6,
   "id": "bd0b4f8b",
   "metadata": {},
   "outputs": [
    {
     "name": "stdout",
     "output_type": "stream",
     "text": [
      "<class 'edgeai_benchmark.sessions.tflitert_session.TFLiteRTSession'>\n",
      "{'advanced_options:quantization_scale_type': 4, 'tensor_bits': 8, 'accuracy_level': 1, 'debug_level': 0, 'inference_mode': 0, 'advanced_options:high_resolution_optimization': 0, 'advanced_options:pre_batchnorm_fold': 1, 'advanced_options:calibration_frames': 10, 'advanced_options:calibration_iterations': 10, 'advanced_options:activation_clipping': 1, 'advanced_options:weight_clipping': 1, 'advanced_options:bias_calibration': 1, 'advanced_options:output_feature_16bit_names_list': '', 'advanced_options:params_16bit_names_list': '', 'advanced_options:add_data_convert_ops': 3, 'advanced_options:c7x_firmware_version': '10_01_04_00', 'ti_internal_nc_flag': 83886080}\n"
     ]
    }
   ],
   "source": [
    "# choose one session_name depending on the model type\n",
    "# tflitert for tflite models, onnxrt for onnx models, tvmdlr for mxnet models.\n",
    "session_name = constants.SESSION_NAME_TFLITERT\n",
    "#session_name = constants.SESSION_NAME_ONNXRT\n",
    "#session_name = constants.SESSION_NAME_TVMDLR\n",
    "\n",
    "session_type = settings.get_session_type(session_name)\n",
    "runtime_options = settings.get_runtime_options(session_name, is_qat=False)\n",
    "\n",
    "print(session_type)\n",
    "print(runtime_options)"
   ]
  },
  {
   "cell_type": "code",
   "execution_count": 7,
   "id": "049e28a5",
   "metadata": {},
   "outputs": [],
   "source": [
    "preproc_transforms = preprocess.PreProcessTransforms(settings)\n",
    "postproc_transforms = postprocess.PostProcessTransforms(settings)\n",
    "\n",
    "# these session cfgs also has some default input mean and scale. \n",
    "# if your model needs a difference mean and scale, update the session cfg dict being used with those values\n",
    "onnx_session_cfg = sessions.get_onnx_session_cfg(settings, work_dir=work_dir)\n",
    "tflite_session_cfg = sessions.get_tflite_session_cfg(settings, work_dir=work_dir)"
   ]
  },
  {
   "cell_type": "markdown",
   "id": "a34d9087",
   "metadata": {},
   "source": [
    "#### Create pipeline_configs\n",
    "\n",
    "pipeline_configs is nothing but a dict with the various model configs that we want to compile"
   ]
  },
  {
   "cell_type": "code",
   "execution_count": 8,
   "id": "81db0343",
   "metadata": {},
   "outputs": [
    {
     "name": "stdout",
     "output_type": "stream",
     "text": [
      "\n",
      "INFO: pipeline_configs={'od-mlpefmnv1': {'task_type': 'detection', 'calibration_dataset': <edgeai_benchmark.datasets.coco_det.COCODetection object at 0x7571839eb6a0>, 'input_dataset': <edgeai_benchmark.datasets.coco_det.COCODetection object at 0x7571e0f93ac0>, 'preprocess': <edgeai_benchmark.preprocess.PreProcessTransforms object at 0x7571839eb850>, 'session': <edgeai_benchmark.sessions.tflitert_session.TFLiteRTSession object at 0x7571839ea500>, 'postprocess': <edgeai_benchmark.postprocess.PostProcessTransforms object at 0x7571839e9a50>, 'metric': {'label_offset_pred': {0: 1, 1: 2, 2: 3, 3: 4, 4: 5, 5: 6, 6: 7, 7: 8, 8: 9, 9: 10, 10: 11, 11: 12, 12: 13, 13: 14, 14: 15, 15: 16, 16: 17, 17: 18, 18: 19, 19: 20, 20: 21, 21: 22, 22: 23, 23: 24, 24: 25, 25: 26, 26: 27, 27: 28, 28: 29, 29: 30, 30: 31, 31: 32, 32: 33, 33: 34, 34: 35, 35: 36, 36: 37, 37: 38, 38: 39, 39: 40, 40: 41, 41: 42, 42: 43, 43: 44, 44: 45, 45: 46, 46: 47, 47: 48, 48: 49, 49: 50, 50: 51, 51: 52, 52: 53, 53: 54, 54: 55, 55: 56, 56: 57, 57: 58, 58: 59, 59: 60, 60: 61, 61: 62, 62: 63, 63: 64, 64: 65, 65: 66, 66: 67, 67: 68, 68: 69, 69: 70, 70: 71, 71: 72, 72: 73, 73: 74, 74: 75, 75: 76, 76: 77, 77: 78, 78: 79, 79: 80, 80: 81, 81: 82, 82: 83, 83: 84, 84: 85, 85: 86, 86: 87, 87: 88, 88: 89, 89: 90, -1: 0, 90: 91}}, 'model_info': {'metric_reference': {'accuracy_ap[.5:.95]%': 23.0}}}}\n"
     ]
    }
   ],
   "source": [
    "pipeline_configs = {\n",
    "    'od-mlpefmnv1': dict(\n",
    "        task_type='detection',\n",
    "        calibration_dataset=calib_dataset,\n",
    "        input_dataset=val_dataset,\n",
    "        preprocess=preproc_transforms.get_transform_tflite((300,300), (300,300), backend='cv2'),\n",
    "        session=session_type(**tflite_session_cfg,\n",
    "            runtime_options=runtime_options,\n",
    "            model_path=f'{settings.models_path}/vision/detection/coco/mlperf/ssd_mobilenet_v1_coco_20180128.tflite'),\n",
    "        postprocess=postproc_transforms.get_transform_detection_tflite(),\n",
    "        metric=dict(label_offset_pred=datasets.coco_det_label_offset_90to90()),\n",
    "        model_info=dict(metric_reference={'accuracy_ap[.5:.95]%':23.0})\n",
    "    )\n",
    "}\n",
    "print(f\"\\nINFO: pipeline_configs={pipeline_configs}\")"
   ]
  },
  {
   "cell_type": "markdown",
   "id": "2a71fc46",
   "metadata": {},
   "source": [
    "#### Model Compilation\n",
    "\n",
    "This will take a few minutes. Please be patient..."
   ]
  },
  {
   "cell_type": "code",
   "execution_count": 9,
   "id": "26c124a3",
   "metadata": {},
   "outputs": [
    {
     "name": "stdout",
     "output_type": "stream",
     "text": [
      "INFO: number of configs: 1\n"
     ]
    },
    {
     "name": "stderr",
     "output_type": "stream",
     "text": [
      "TASKS TOTAL=1, NUM_RUNNING=0:   0%|                                                                                                                                                                                                                                | 0/1 [00:00<?, ?it/s, postfix={'RUNNING': [], 'COMPLETED': []}]"
     ]
    },
    {
     "name": "stdout",
     "output_type": "stream",
     "text": [
      "\u001b[34m\n",
      "INFO:\u001b[33m20250226-141514: starting - \u001b[39mod-mlpefmnv1_tflitert_coco_mlperf_ssd_mobilenet_v1_coco_20180128_tflite\n",
      "\u001b[34mINFO:\u001b[33m20250226-141514: model_path - \u001b[39m/data/ssd/files/a0393608/work/code/ti/edgeai-algo/edgeai-modelzoo/models/vision/detection/coco/mlperf/ssd_mobilenet_v1_coco_20180128.tflite\n",
      "\u001b[34mINFO:\u001b[33m20250226-141514: model_file - \u001b[39m/data/ssd/files/a0393608/work/code/ti/edgeai-algo/edgeai-benchmark/work_dirs_custom/modelartifacts/8bits/od-mlpefmnv1_tflitert_coco_mlperf_ssd_mobilenet_v1_coco_20180128_tflite/model/ssd_mobilenet_v1_coco_20180128.tflite\n",
      "\u001b[34mINFO:\u001b[33m20250226-141514: quant_file - \u001b[39m/data/ssd/files/a0393608/work/code/ti/edgeai-algo/edgeai-benchmark/work_dirs_custom/modelartifacts/8bits/od-mlpefmnv1_tflitert_coco_mlperf_ssd_mobilenet_v1_coco_20180128_tflite/model/ssd_mobilenet_v1_coco_20180128_qparams.prototxt\n",
      "Downloading 1/1: /data/ssd/files/a0393608/work/code/ti/edgeai-algo/edgeai-modelzoo/models/vision/detection/coco/mlperf/ssd_mobilenet_v1_coco_20180128.tflite\n",
      "Download done for /data/ssd/files/a0393608/work/code/ti/edgeai-algo/edgeai-modelzoo/models/vision/detection/coco/mlperf/ssd_mobilenet_v1_coco_20180128.tflite\n",
      "Downloading 1/1: /data/ssd/files/a0393608/work/code/ti/edgeai-algo/edgeai-modelzoo/models/vision/detection/coco/mlperf/ssd_mobilenet_v1_coco_20180128.tflite\n",
      "Download done for /data/ssd/files/a0393608/work/code/ti/edgeai-algo/edgeai-modelzoo/models/vision/detection/coco/mlperf/ssd_mobilenet_v1_coco_20180128.tflite\n"
     ]
    },
    {
     "name": "stderr",
     "output_type": "stream",
     "text": [
      "TASKS TOTAL=1, NUM_RUNNING=1:   0%|                                                                                                                                                                                                           | 0/1 [00:00<?, ?it/s, postfix={'RUNNING': ['od-mlpefmnv1:import'], 'COMPLETED': []}]"
     ]
    },
    {
     "name": "stdout",
     "output_type": "stream",
     "text": [
      "/data/ssd/files/a0393608/work/code/ti/edgeai-algo/edgeai-benchmark/work_dirs_custom/modelartifacts/8bits/od-mlpefmnv1_tflitert_coco_mlperf_ssd_mobilenet_v1_coco_20180128_tflite/model/ssd_mobilenet_v1_coco_20180128.tflite\n",
      "\u001b[34m\n",
      "INFO:\u001b[33m20250226-141514: running - \u001b[39mod-mlpefmnv1_tflitert_coco_mlperf_ssd_mobilenet_v1_coco_20180128_tflite\n",
      "\u001b[34m\n",
      "INFO:\u001b[33m20250226-141514: pipeline_config - \u001b[39m{'task_type': 'detection', 'calibration_dataset': <edgeai_benchmark.datasets.coco_det.COCODetection object at 0x7571839eb6a0>, 'input_dataset': <edgeai_benchmark.datasets.coco_det.COCODetection object at 0x7571e0f93ac0>, 'preprocess': <edgeai_benchmark.preprocess.PreProcessTransforms object at 0x7571839eb850>, 'session': <edgeai_benchmark.sessions.tflitert_session.TFLiteRTSession object at 0x7571839ea500>, 'postprocess': <edgeai_benchmark.postprocess.PostProcessTransforms object at 0x7571839e9a50>, 'metric': {'label_offset_pred': {0: 1, 1: 2, 2: 3, 3: 4, 4: 5, 5: 6, 6: 7, 7: 8, 8: 9, 9: 10, 10: 11, 11: 12, 12: 13, 13: 14, 14: 15, 15: 16, 16: 17, 17: 18, 18: 19, 19: 20, 20: 21, 21: 22, 22: 23, 23: 24, 24: 25, 25: 26, 26: 27, 27: 28, 28: 29, 29: 30, 30: 31, 31: 32, 32: 33, 33: 34, 34: 35, 35: 36, 36: 37, 37: 38, 38: 39, 39: 40, 40: 41, 41: 42, 42: 43, 43: 44, 44: 45, 45: 46, 46: 47, 47: 48, 48: 49, 49: 50, 50: 51, 51: 52, 52: 53, 53: 54, 54: 55, 55: 56, 56: 57, 57: 58, 58: 59, 59: 60, 60: 61, 61: 62, 62: 63, 63: 64, 64: 65, 65: 66, 66: 67, 67: 68, 68: 69, 69: 70, 70: 71, 71: 72, 72: 73, 73: 74, 74: 75, 75: 76, 76: 77, 77: 78, 78: 79, 79: 80, 80: 81, 81: 82, 82: 83, 83: 84, 84: 85, 85: 86, 86: 87, 87: 88, 88: 89, 89: 90, -1: 0, 90: 91}}, 'model_info': {'metric_reference': {'accuracy_ap[.5:.95]%': 23.0}}}\n"
     ]
    },
    {
     "name": "stderr",
     "output_type": "stream",
     "text": [
      "TASKS TOTAL=1, NUM_RUNNING=1:   0%|                                                                                                                                                                                                           | 0/1 [00:01<?, ?it/s, postfix={'RUNNING': ['od-mlpefmnv1:import'], 'COMPLETED': []}]"
     ]
    },
    {
     "name": "stdout",
     "output_type": "stream",
     "text": [
      "\u001b[34m\n",
      "INFO:\u001b[33m20250226-141515: import  - \u001b[39mod-mlpefmnv1_tflitert_coco_mlperf_ssd_mobilenet_v1_coco_20180128_tflite - this may take some time...\n"
     ]
    },
    {
     "name": "stderr",
     "output_type": "stream",
     "text": [
      "TASKS TOTAL=1, NUM_RUNNING=1:   0%|                                                                                                                                                                                                           | 0/1 [00:20<?, ?it/s, postfix={'RUNNING': ['od-mlpefmnv1:import'], 'COMPLETED': []}]"
     ]
    },
    {
     "name": "stdout",
     "output_type": "stream",
     "text": [
      "\u001b[34m\n",
      "INFO:\u001b[33m20250226-141534: import completed  - \u001b[39mod-mlpefmnv1_tflitert_coco_mlperf_ssd_mobilenet_v1_coco_20180128_tflite - 20 sec\n",
      "\u001b[32m\n",
      "\n",
      "SUCCESS:\u001b[33m20250226-141534: benchmark results - \u001b[39m{}\n",
      "\n"
     ]
    },
    {
     "name": "stderr",
     "output_type": "stream",
     "text": [
      "TASKS TOTAL=1, NUM_RUNNING=0:   0%|                                                                                                                                                                                                                                | 0/1 [00:21<?, ?it/s, postfix={'RUNNING': [], 'COMPLETED': []}]"
     ]
    },
    {
     "name": "stdout",
     "output_type": "stream",
     "text": [
      "\u001b[34m\n",
      "INFO:\u001b[33m20250226-141535: starting - \u001b[39mod-mlpefmnv1_tflitert_coco_mlperf_ssd_mobilenet_v1_coco_20180128_tflite\n",
      "\u001b[34mINFO:\u001b[33m20250226-141535: model_path - \u001b[39m/data/ssd/files/a0393608/work/code/ti/edgeai-algo/edgeai-modelzoo/models/vision/detection/coco/mlperf/ssd_mobilenet_v1_coco_20180128.tflite\n",
      "\u001b[34mINFO:\u001b[33m20250226-141535: model_file - \u001b[39m/data/ssd/files/a0393608/work/code/ti/edgeai-algo/edgeai-benchmark/work_dirs_custom/modelartifacts/8bits/od-mlpefmnv1_tflitert_coco_mlperf_ssd_mobilenet_v1_coco_20180128_tflite/model/ssd_mobilenet_v1_coco_20180128.tflite\n",
      "\u001b[34mINFO:\u001b[33m20250226-141535: quant_file - \u001b[39m/data/ssd/files/a0393608/work/code/ti/edgeai-algo/edgeai-benchmark/work_dirs_custom/modelartifacts/8bits/od-mlpefmnv1_tflitert_coco_mlperf_ssd_mobilenet_v1_coco_20180128_tflite/model/ssd_mobilenet_v1_coco_20180128_qparams.prototxt\n",
      "\u001b[34m\n",
      "INFO:\u001b[33m20250226-141535: running - \u001b[39mod-mlpefmnv1_tflitert_coco_mlperf_ssd_mobilenet_v1_coco_20180128_tflite\n",
      "\u001b[34m\n",
      "INFO:\u001b[33m20250226-141535: pipeline_config - \u001b[39m{'task_type': 'detection', 'calibration_dataset': <edgeai_benchmark.datasets.coco_det.COCODetection object at 0x7571839eb6a0>, 'input_dataset': <edgeai_benchmark.datasets.coco_det.COCODetection object at 0x7571e0f93ac0>, 'preprocess': <edgeai_benchmark.preprocess.PreProcessTransforms object at 0x7571839eb850>, 'session': <edgeai_benchmark.sessions.tflitert_session.TFLiteRTSession object at 0x7571839ea500>, 'postprocess': <edgeai_benchmark.postprocess.PostProcessTransforms object at 0x7571839e9a50>, 'metric': {'label_offset_pred': {0: 1, 1: 2, 2: 3, 3: 4, 4: 5, 5: 6, 6: 7, 7: 8, 8: 9, 9: 10, 10: 11, 11: 12, 12: 13, 13: 14, 14: 15, 15: 16, 16: 17, 17: 18, 18: 19, 19: 20, 20: 21, 21: 22, 22: 23, 23: 24, 24: 25, 25: 26, 26: 27, 27: 28, 28: 29, 29: 30, 30: 31, 31: 32, 32: 33, 33: 34, 34: 35, 35: 36, 36: 37, 37: 38, 38: 39, 39: 40, 40: 41, 41: 42, 42: 43, 43: 44, 44: 45, 45: 46, 46: 47, 47: 48, 48: 49, 49: 50, 50: 51, 51: 52, 52: 53, 53: 54, 54: 55, 55: 56, 56: 57, 57: 58, 58: 59, 59: 60, 60: 61, 61: 62, 62: 63, 63: 64, 64: 65, 65: 66, 66: 67, 67: 68, 68: 69, 69: 70, 70: 71, 71: 72, 72: 73, 73: 74, 74: 75, 75: 76, 76: 77, 77: 78, 78: 79, 79: 80, 80: 81, 81: 82, 82: 83, 83: 84, 84: 85, 85: 86, 86: 87, 87: 88, 88: 89, 89: 90, -1: 0, 90: 91}}, 'model_info': {'metric_reference': {'accuracy_ap[.5:.95]%': 23.0}}}\n"
     ]
    },
    {
     "name": "stderr",
     "output_type": "stream",
     "text": [
      "TASKS TOTAL=1, NUM_RUNNING=1:   0%|                                                                                                                                                                                                            | 0/1 [00:21<?, ?it/s, postfix={'RUNNING': ['od-mlpefmnv1:infer'], 'COMPLETED': []}]"
     ]
    },
    {
     "name": "stdout",
     "output_type": "stream",
     "text": [
      "\u001b[34m\n",
      "INFO:\u001b[33m20250226-141535: infer  - \u001b[39mod-mlpefmnv1_tflitert_coco_mlperf_ssd_mobilenet_v1_coco_20180128_tflite - this may take some time...\n",
      "infer : od-mlpefmnv1_tflitert_coco_mlperf_ssd_mobilenet_v1_c|          |     0% 0/1000| [< ]0<?, ?it/s]"
     ]
    },
    {
     "name": "stderr",
     "output_type": "stream",
     "text": [
      "TASKS TOTAL=1, NUM_RUNNING=1:   0%|                                                                                                                                                                                                            | 0/1 [00:31<?, ?it/s, postfix={'RUNNING': ['od-mlpefmnv1:infer'], 'COMPLETED': []}]"
     ]
    },
    {
     "name": "stdout",
     "output_type": "stream",
     "text": [
      "infer : od-mlpefmnv1_tflitert_coco_mlperf_ssd_mobilenet_v1_c|  18%|█▊        || 182/1000 [00:10<00:44, 18.20it/s]"
     ]
    },
    {
     "name": "stderr",
     "output_type": "stream",
     "text": [
      "TASKS TOTAL=1, NUM_RUNNING=1:   0%|                                                                                                                                                                                                            | 0/1 [00:41<?, ?it/s, postfix={'RUNNING': ['od-mlpefmnv1:infer'], 'COMPLETED': []}]"
     ]
    },
    {
     "name": "stdout",
     "output_type": "stream",
     "text": [
      "infer : od-mlpefmnv1_tflitert_coco_mlperf_ssd_mobilenet_v1_c|  40%|███▉      || 397/1000 [00:20<00:29, 20.13it/s]"
     ]
    },
    {
     "name": "stderr",
     "output_type": "stream",
     "text": [
      "TASKS TOTAL=1, NUM_RUNNING=1:   0%|                                                                                                                                                                                                            | 0/1 [00:51<?, ?it/s, postfix={'RUNNING': ['od-mlpefmnv1:infer'], 'COMPLETED': []}]"
     ]
    },
    {
     "name": "stdout",
     "output_type": "stream",
     "text": [
      "infer : od-mlpefmnv1_tflitert_coco_mlperf_ssd_mobilenet_v1_c|  61%|██████    || 612/1000 [00:30<00:18, 20.54it/s]"
     ]
    },
    {
     "name": "stderr",
     "output_type": "stream",
     "text": [
      "TASKS TOTAL=1, NUM_RUNNING=1:   0%|                                                                                                                                                                                                            | 0/1 [01:02<?, ?it/s, postfix={'RUNNING': ['od-mlpefmnv1:infer'], 'COMPLETED': []}]"
     ]
    },
    {
     "name": "stdout",
     "output_type": "stream",
     "text": [
      "infer : od-mlpefmnv1_tflitert_coco_mlperf_ssd_mobilenet_v1_c|  82%|████████▏ || 823/1000 [00:40<00:08, 20.39it/s]"
     ]
    },
    {
     "name": "stderr",
     "output_type": "stream",
     "text": [
      "TASKS TOTAL=1, NUM_RUNNING=1:   0%|                                                                                                                                                                                                            | 0/1 [01:10<?, ?it/s, postfix={'RUNNING': ['od-mlpefmnv1:infer'], 'COMPLETED': []}]"
     ]
    },
    {
     "name": "stdout",
     "output_type": "stream",
     "text": [
      "infer : od-mlpefmnv1_tflitert_coco_mlperf_ssd_mobilenet_v1_c| 100%|██████████|| 1000/1000 [00:49<00:00, 20.23it/s]\n"
     ]
    },
    {
     "name": "stderr",
     "output_type": "stream",
     "text": [
      "TASKS TOTAL=1, NUM_RUNNING=1:   0%|                                                                                                                                                                                                            | 0/1 [01:11<?, ?it/s, postfix={'RUNNING': ['od-mlpefmnv1:infer'], 'COMPLETED': []}]"
     ]
    },
    {
     "name": "stdout",
     "output_type": "stream",
     "text": [
      "\u001b[34m\n",
      "INFO:\u001b[33m20250226-141625: infer completed  - \u001b[39mod-mlpefmnv1_tflitert_coco_mlperf_ssd_mobilenet_v1_coco_20180128_tflite - 50 sec\n",
      "Loading and preparing results...\n",
      "DONE (t=0.02s)\n",
      "creating index...\n",
      "index created!\n",
      "Running per image evaluation...\n",
      "Evaluate annotation type *bbox*\n"
     ]
    },
    {
     "name": "stderr",
     "output_type": "stream",
     "text": [
      "TASKS TOTAL=1, NUM_RUNNING=1:   0%|                                                                                                                                                                                                            | 0/1 [01:12<?, ?it/s, postfix={'RUNNING': ['od-mlpefmnv1:infer'], 'COMPLETED': []}]"
     ]
    },
    {
     "name": "stdout",
     "output_type": "stream",
     "text": [
      "DONE (t=1.48s).\n",
      "Accumulating evaluation results...\n"
     ]
    },
    {
     "name": "stderr",
     "output_type": "stream",
     "text": [
      "TASKS TOTAL=1, NUM_RUNNING=1:   0%|                                                                                                                                                                                                            | 0/1 [01:13<?, ?it/s, postfix={'RUNNING': ['od-mlpefmnv1:infer'], 'COMPLETED': []}]"
     ]
    },
    {
     "name": "stdout",
     "output_type": "stream",
     "text": [
      "DONE (t=0.57s).\n"
     ]
    },
    {
     "name": "stderr",
     "output_type": "stream",
     "text": [
      "TASKS TOTAL=1, NUM_RUNNING=1:   0%|                                                                                                                                                                                                            | 0/1 [01:13<?, ?it/s, postfix={'RUNNING': ['od-mlpefmnv1:infer'], 'COMPLETED': []}]"
     ]
    },
    {
     "name": "stdout",
     "output_type": "stream",
     "text": [
      " Average Precision  (AP) @[ IoU=0.50:0.95 | area=   all | maxDets=100 ] = 0.018"
     ]
    },
    {
     "name": "stderr",
     "output_type": "stream",
     "text": [
      "TASKS TOTAL=1, NUM_RUNNING=1:   0%|                                                                                                                                                                                                            | 0/1 [01:13<?, ?it/s, postfix={'RUNNING': ['od-mlpefmnv1:infer'], 'COMPLETED': []}]"
     ]
    },
    {
     "name": "stdout",
     "output_type": "stream",
     "text": [
      "\n",
      " Average Precision  (AP) @[ IoU=0.50      | area=   all | maxDets=100 ] = 0.040\n",
      " Average Precision  (AP) @[ IoU=0.75      | area=   all | maxDets=100 ] = 0.014\n",
      " Average Precision  (AP) @[ IoU=0.50:0.95 | area= small | maxDets=100 ] = 0.016\n",
      " Average Precision  (AP) @[ IoU=0.50:0.95 | area=medium | maxDets=100 ] = 0.038\n",
      " Average Precision  (AP) @[ IoU=0.50:0.95 | area= large | maxDets=100 ] = 0.000\n",
      " Average Recall     (AR) @[ IoU=0.50:0.95 | area=   all | maxDets=  1 ] = 0.016\n",
      " Average Recall     (AR) @[ IoU=0.50:0.95 | area=   all | maxDets= 10 ] = 0.022\n",
      " Average Recall     (AR) @[ IoU=0.50:0.95 | area=   all | maxDets=100 ] = 0.022\n",
      " Average Recall     (AR) @[ IoU=0.50:0.95 | area= small | maxDets=100 ] = 0.018\n",
      " Average Recall     (AR) @[ IoU=0.50:0.95 | area=medium | maxDets=100 ] = 0.045\n",
      " Average Recall     (AR) @[ IoU=0.50:0.95 | area= large | maxDets=100 ] = 0.000\n",
      "\u001b[32m\n",
      "\n",
      "SUCCESS:\u001b[33m20250226-141627: benchmark results - \u001b[39m{'infer_path': 'od-mlpefmnv1_tflitert_coco_mlperf_ssd_mobilenet_v1_coco_20180128_tflite', 'accuracy_ap[.5:.95]%': 1.791704, 'accuracy_ap50%': 3.952937, 'num_subgraphs': 1}\n",
      "\n"
     ]
    },
    {
     "name": "stderr",
     "output_type": "stream",
     "text": [
      "TASKS TOTAL=1, NUM_RUNNING=0: 100%|██████████████████████████████████████████████████████████████████████████████████████████████████████████████████████████████████████████████████████████████████████████████████████████████████████████| 1/1 [01:14<00:00, 74.18s/it, postfix={'RUNNING': [], 'COMPLETED': ['od-mlpefmnv1']}]"
     ]
    },
    {
     "name": "stdout",
     "output_type": "stream",
     "text": [
      "\n",
      "INFO: compiled artifacts is in: /data/ssd/files/a0393608/work/code/ti/edgeai-algo/edgeai-benchmark/work_dirs_custom/modelartifacts/8bits/od-mlpefmnv1_tflitert_coco_mlperf_ssd_mobilenet_v1_coco_20180128_tflite\n",
      "INFO: result - {'infer_path': 'od-mlpefmnv1_tflitert_coco_mlperf_ssd_mobilenet_v1_coco_20180128_tflite', 'accuracy_ap[.5:.95]%': 1.791704, 'accuracy_ap50%': 3.952937, 'num_subgraphs': 1}\n"
     ]
    },
    {
     "name": "stderr",
     "output_type": "stream",
     "text": [
      "\n"
     ]
    }
   ],
   "source": [
    "# run the model compliation/import and inference\n",
    "interfaces.run_benchmark_config(settings, work_dir, pipeline_configs)\n",
    "run_dir = list(pipeline_configs.values())[0]['session'].get_run_dir()\n",
    "print(f\"\\nINFO: compiled artifacts is in: {run_dir}\")\n",
    "\n",
    "# print the result:\n",
    "with open(os.path.join(run_dir, \"result.yaml\")) as fp:\n",
    "    result_yaml = yaml.safe_load(fp)\n",
    "    result_dict = result_yaml['result']\n",
    "    print(f\"INFO: result - {result_dict}\")\n",
    "#"
   ]
  },
  {
   "cell_type": "markdown",
   "id": "7d982aa0",
   "metadata": {},
   "source": [
    "#### Package artifacts\n",
    "\n",
    "Package the artifacts into a .tar.gz file, keeping only the necessary files for inference."
   ]
  },
  {
   "cell_type": "code",
   "execution_count": 10,
   "id": "25a664e6",
   "metadata": {},
   "outputs": [
    {
     "name": "stdout",
     "output_type": "stream",
     "text": [
      "\n",
      "INFO: packaging artifacts to /data/ssd/files/a0393608/work/code/ti/edgeai-algo/edgeai-benchmark/work_dirs_custom/modelartifacts/8bits_package please wait...\n",
      "\u001b[32mSUCCESS:\u001b[33m20250226-141629: finished packaging - \u001b[39m/data/ssd/files/a0393608/work/code/ti/edgeai-algo/edgeai-benchmark/work_dirs_custom/modelartifacts/8bits/od-mlpefmnv1_tflitert_coco_mlperf_ssd_mobilenet_v1_coco_20180128_tflite\n"
     ]
    }
   ],
   "source": [
    "print()\n",
    "out_dir = f'{work_dir}_package'\n",
    "interfaces.package_artifacts(settings, work_dir, out_dir)"
   ]
  },
  {
   "cell_type": "markdown",
   "id": "f01cc894",
   "metadata": {},
   "source": [
    "#### Download\n",
    "\n",
    "Download the packaged .tar.gz artifact\n",
    "\n",
    "TODO: add a download link here, that the user can click to download the packaged artifact .tar.gz file."
   ]
  },
  {
   "cell_type": "code",
   "execution_count": 11,
   "id": "514f7dac",
   "metadata": {},
   "outputs": [
    {
     "name": "stdout",
     "output_type": "stream",
     "text": [
      "\n",
      "INFO: download the atricats files from the folder: /data/ssd/files/a0393608/work/code/ti/edgeai-algo/edgeai-benchmark/work_dirs_custom/modelartifacts/8bits_package\n",
      "['artifacts.csv', 'artifacts.yaml', 'od-mlpefmnv1_tflitert_coco_mlperf_ssd_mobilenet_v1_coco_20180128_tflite.tar.gz', 'extract.sh']\n"
     ]
    }
   ],
   "source": [
    "print(f'\\nINFO: download the atricats files from the folder: {out_dir}')\n",
    "print(os.listdir(out_dir))"
   ]
  },
  {
   "cell_type": "code",
   "execution_count": null,
   "id": "64c237d3",
   "metadata": {},
   "outputs": [],
   "source": []
  }
 ],
 "metadata": {
  "kernelspec": {
   "display_name": "Python 3 (ipykernel)",
   "language": "python",
   "name": "python3"
  },
  "language_info": {
   "codemirror_mode": {
    "name": "ipython",
    "version": 3
   },
   "file_extension": ".py",
   "mimetype": "text/x-python",
   "name": "python",
   "nbconvert_exporter": "python",
   "pygments_lexer": "ipython3",
   "version": "3.10.14"
  }
 },
 "nbformat": 4,
 "nbformat_minor": 5
}
