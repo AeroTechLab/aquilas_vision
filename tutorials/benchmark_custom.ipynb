{
 "cells": [
  {
   "cell_type": "markdown",
   "id": "3a5c3202",
   "metadata": {},
   "source": [
    "## Model Compilation Jupyter Notebook Example\n",
    "\n",
    "This notebook shows the example of model compilation using edgeai-benchmark.\n",
    "\n",
    "This script uses TIDL to compile a model and output in a format that edgeai-sdk can understand.\n",
    "\n",
    "jai_benchmark is a python package provided in edgeai-benchmark that provides several functions to assist model compilation."
   ]
  },
  {
   "cell_type": "code",
   "execution_count": 1,
   "id": "06fd730f",
   "metadata": {},
   "outputs": [],
   "source": [
    "import os\n",
    "import tempfile\n",
    "import argparse\n",
    "import cv2\n",
    "from jai_benchmark import *"
   ]
  },
  {
   "cell_type": "code",
   "execution_count": 2,
   "id": "c4f68d52",
   "metadata": {},
   "outputs": [
    {
     "name": "stdout",
     "output_type": "stream",
     "text": [
      "/data/files/a0393608/work/code/ti/edgeai-algo/edgeai-benchmark/dependencies/ti-processor-sdk-rtos/tidl_j7_08_00_00_05/tidl_tools\n",
      "/data/files/a0393608/work/code/ti/edgeai-algo/edgeai-benchmark\n"
     ]
    }
   ],
   "source": [
    "# the cwd must be the root of the respository\n",
    "if os.path.split(os.getcwd())[-1] in ('scripts', 'tutorials'):\n",
    "    os.chdir('../')\n",
    "#\n",
    "print(os.environ['TIDL_TOOLS_PATH'])\n",
    "print(os.getcwd())"
   ]
  },
  {
   "cell_type": "markdown",
   "id": "6e4bf6ec",
   "metadata": {},
   "source": [
    "#### Create a temporary directory. \n",
    "\n",
    "This is were the compiled artifacts will be stored."
   ]
  },
  {
   "cell_type": "code",
   "execution_count": 4,
   "id": "ed12c333",
   "metadata": {},
   "outputs": [
    {
     "name": "stdout",
     "output_type": "stream",
     "text": [
      "<TemporaryDirectory '/tmp/tmpkcvl8g2k'>\n"
     ]
    }
   ],
   "source": [
    "modelartifacts_tempdir = tempfile.TemporaryDirectory()\n",
    "print(modelartifacts_tempdir)\n",
    "modelartifacts_custom = os.path.join(modelartifacts_tempdir.name, 'modelartifacts')"
   ]
  },
  {
   "cell_type": "markdown",
   "id": "f9acd99c",
   "metadata": {},
   "source": [
    "#### Read settings from settings_import_on_pc.yaml\n",
    "\n",
    "Modify the settings as necessary in the constructor of settings.ConfigSettings()"
   ]
  },
  {
   "cell_type": "code",
   "execution_count": 5,
   "id": "b5b47491",
   "metadata": {},
   "outputs": [
    {
     "name": "stdout",
     "output_type": "stream",
     "text": [
      "work_dir = /tmp/tmpkcvl8g2k/modelartifacts/8bits\n"
     ]
    }
   ],
   "source": [
    "settings = config_settings.ConfigSettings('./settings_import_on_pc.yaml', \n",
    "                modelartifacts_path=modelartifacts_custom,\n",
    "                calibration_frames=5, calibration_iteration=5, num_frames=100)\n",
    "\n",
    "work_dir = os.path.join(settings.modelartifacts_path, f'{settings.tensor_bits}bits')\n",
    "print(f'work_dir = {work_dir}')"
   ]
  },
  {
   "cell_type": "markdown",
   "id": "5937d8b1",
   "metadata": {},
   "source": [
    "#### Create Dataset Reader classes\n",
    "\n",
    "Change the dataset paths according to your dataset location"
   ]
  },
  {
   "cell_type": "code",
   "execution_count": 6,
   "id": "90745b38",
   "metadata": {},
   "outputs": [],
   "source": [
    "dataset_calib_cfg = dict(\n",
    "    path=f'{settings.datasets_path}/imagenet/val',\n",
    "    split=f'{settings.datasets_path}/imagenet/val.txt',\n",
    "    num_classes=1000,\n",
    "    shuffle=True,\n",
    "    num_frames=min(settings.calibration_frames,50000))\n",
    "\n",
    "# dataset parameters for actual inference\n",
    "dataset_val_cfg = dict(\n",
    "    path=f'{settings.datasets_path}/imagenet/val',\n",
    "    split=f'{settings.datasets_path}/imagenet/val.txt',\n",
    "    num_classes=1000,\n",
    "    shuffle=True,\n",
    "    num_frames=min(settings.num_frames,50000))\n",
    "\n",
    "calib_dataset = datasets.ImageClassification(**dataset_calib_cfg)\n",
    "val_dataset = datasets.ImageClassification(**dataset_val_cfg)"
   ]
  },
  {
   "cell_type": "markdown",
   "id": "fb928333",
   "metadata": {},
   "source": [
    "#### Session runtime_options\n",
    "\n",
    "The default runtime_options can be overriden by passing a runtime_options dict to this function"
   ]
  },
  {
   "cell_type": "code",
   "execution_count": 7,
   "id": "bd0b4f8b",
   "metadata": {},
   "outputs": [
    {
     "name": "stdout",
     "output_type": "stream",
     "text": [
      "{'tensor_bits': 8, 'accuracy_level': 1, 'debug_level': 0, 'advanced_options:high_resolution_optimization': 0, 'advanced_options:pre_batchnorm_fold': 1, 'advanced_options:calibration_frames': 5, 'advanced_options:calibration_iterations': 50, 'advanced_options:quantization_scale_type': 0, 'advanced_options:activation_clipping': 1, 'advanced_options:weight_clipping': 1, 'advanced_options:bias_calibration': 1, 'advanced_options:channel_wise_quantization': 0, 'advanced_options:output_feature_16bit_names_list': '', 'advanced_options:params_16bit_names_list': ''}\n"
     ]
    }
   ],
   "source": [
    "runtime_options_tflitert = settings.get_runtime_options(constants.SESSION_NAME_TFLITERT, is_qat=False)\n",
    "print(runtime_options_tflitert)"
   ]
  },
  {
   "cell_type": "markdown",
   "id": "a34d9087",
   "metadata": {},
   "source": [
    "#### Create pipeline_configs\n",
    "\n",
    "pipeline_configs is nothing but a dict with the various model configs that we want to compile"
   ]
  },
  {
   "cell_type": "code",
   "execution_count": 9,
   "id": "81db0343",
   "metadata": {},
   "outputs": [
    {
     "name": "stdout",
     "output_type": "stream",
     "text": [
      "{'cl-mnv2': {'task_type': 'classification', 'calibration_dataset': <jai_benchmark.datasets.image_cls.ImageClassification object at 0x7febade90eb8>, 'input_dataset': <jai_benchmark.datasets.image_cls.ImageClassification object at 0x7febade90f28>, 'preprocess': <jai_benchmark.utils.transforms_utils.TransformsCompose object at 0x7febade90828>, 'session': <jai_benchmark.sessions.tflitert_session.TFLiteRTSession object at 0x7febade90e10>, 'postprocess': <jai_benchmark.utils.transforms_utils.TransformsCompose object at 0x7febade90ef0>, 'metric': {'label_offset_pred': -1}, 'model_info': {'metric_reference': {'accuracy_top1%': 71.9}}}}\n"
     ]
    }
   ],
   "source": [
    "pipeline_configs = {\n",
    "    'cl-mnv2': dict(\n",
    "        task_type='classification',\n",
    "        calibration_dataset=calib_dataset,\n",
    "        input_dataset=val_dataset,\n",
    "        preprocess=settings.get_preproc_tflite(),\n",
    "        session=sessions.TFLiteRTSession(\n",
    "            work_dir=work_dir, target_device=settings.target_device, runtime_options=runtime_options_tflitert,\n",
    "            model_path=f'{settings.models_path}/vision/classification/imagenet1k/tf1-models/mobilenet_v2_1.0_224.tflite'),\n",
    "        postprocess=settings.get_postproc_classification(),\n",
    "        metric=dict(label_offset_pred=-1),\n",
    "        model_info=dict(metric_reference={'accuracy_top1%':71.9})\n",
    "    ),\n",
    "}\n",
    "print(pipeline_configs)"
   ]
  },
  {
   "cell_type": "markdown",
   "id": "2a71fc46",
   "metadata": {},
   "source": [
    "#### Model Compilation\n",
    "\n",
    "This will take a few minutes. Please be patient..."
   ]
  },
  {
   "cell_type": "code",
   "execution_count": 10,
   "id": "26c124a3",
   "metadata": {},
   "outputs": [
    {
     "name": "stdout",
     "output_type": "stream",
     "text": [
      "configs to run: ['cl-mnv2_tflitert_tf1-models_mobilenet_v2_1.0_224_tflite']\n",
      "number of configs: 1\n"
     ]
    },
    {
     "data": {
      "application/vnd.jupyter.widget-view+json": {
       "model_id": "6f33f30164f641069e4263aededd22ed",
       "version_major": 2,
       "version_minor": 0
      },
      "text/plain": [
       "TASKS                                                       |   0%|          || 0/1 [00:00<?, ?it/s]"
      ]
     },
     "metadata": {},
     "output_type": "display_data"
    },
    {
     "name": "stdout",
     "output_type": "stream",
     "text": [
      "TASKS                                                       |          |     0% 0/1| [< ]\u001b[34m\n",
      "INFO:\u001b[33m20210805-124038: starting process on parallel_device - \u001b[39m0\n",
      "\u001b[34mINFO:\u001b[33m20210805-124038: model_path - \u001b[39m/data/files/a0393608/work/code/ti/edgeai-algo/edgeai-modelzoo/models/vision/classification/imagenet1k/tf1-models/mobilenet_v2_1.0_224.tflite\n",
      "\u001b[34mINFO:\u001b[33m20210805-124038: model_file - \u001b[39m/tmp/tmpkcvl8g2k/modelartifacts/8bits/cl-mnv2_tflitert_tf1-models_mobilenet_v2_1.0_224_tflite/model/mobilenet_v2_1.0_224.tflite\n",
      "Downloading http://software-dl.ti.com/jacinto7/esd/modelzoo/common/models/vision/classification/imagenet1k/tf1-models/mobilenet_v2_1.0_224.tflite to /tmp/tmpkcvl8g2k/modelartifacts/8bits/cl-mnv2_tflitert_tf1-models_mobilenet_v2_1.0_224_tflite/model/mobilenet_v2_1.0_224.tflite\n"
     ]
    },
    {
     "data": {
      "application/vnd.jupyter.widget-view+json": {
       "model_id": "ce447969643a4354a41bdc313035a5c7",
       "version_major": 2,
       "version_minor": 0
      },
      "text/plain": [
       "0it [00:00, ?it/s]"
      ]
     },
     "metadata": {},
     "output_type": "display_data"
    },
    {
     "name": "stdout",
     "output_type": "stream",
     "text": [
      "\u001b[34m\n",
      "INFO:\u001b[33m20210805-124047: running - \u001b[39mcl-mnv2_tflitert_tf1-models_mobilenet_v2_1.0_224_tflite\u001b[34m\n",
      "INFO:\u001b[33m20210805-124047: pipeline_config - \u001b[39m{'task_type': 'classification', 'calibration_dataset': <jai_benchmark.datasets.image_cls.ImageClassification object at 0x7febade76fd0>, 'input_dataset': <jai_benchmark.datasets.image_cls.ImageClassification object at 0x7febade89d68>, 'preprocess': <jai_benchmark.utils.transforms_utils.TransformsCompose object at 0x7febade96d30>, 'session': <jai_benchmark.sessions.tflitert_session.TFLiteRTSession object at 0x7febade963c8>, 'postprocess': <jai_benchmark.utils.transforms_utils.TransformsCompose object at 0x7febade964e0>, 'metric': {'label_offset_pred': -1}, 'model_info': {'metric_reference': {'accuracy_top1%': 71.9}}}\u001b[34m\n",
      "INFO:\u001b[33m20210805-124047: import  - \u001b[39mcl-mnv2_tflitert_tf1-models_mobilenet_v2_1.0_224_tflite\u001b[34m\n",
      "INFO:\u001b[33m20210805-124133: import completed  - \u001b[39mcl-mnv2_tflitert_tf1-models_mobilenet_v2_1.0_224_tflite - 46 sec\u001b[34m\n",
      "INFO:\u001b[33m20210805-124133: infer  - \u001b[39mcl-mnv2_tflitert_tf1-models_mobilenet_v2_1.0_224_tflite"
     ]
    },
    {
     "data": {
      "application/vnd.jupyter.widget-view+json": {
       "model_id": "a2d9da4612824db1a4d836eca98f61d7",
       "version_major": 2,
       "version_minor": 0
      },
      "text/plain": [
       "infer : cl-mnv2_tflitert_tf1-models_mobilenet_v2_1.0_224_tfl|   0%|          || 0/100 [00:00<?, ?it/s]"
      ]
     },
     "metadata": {},
     "output_type": "display_data"
    },
    {
     "name": "stdout",
     "output_type": "stream",
     "text": [
      "infer : cl-mnv2_tflitert_tf1-models_mobilenet_v2_1.0_224_tfl|          |     0% 0/100| [< ]\u001b[34m\n",
      "INFO:\u001b[33m20210805-124138: infer completed  - \u001b[39mcl-mnv2_tflitert_tf1-models_mobilenet_v2_1.0_224_tflite - 5 sec\u001b[32m\n",
      "\n",
      "SUCCESS:\u001b[33m20210805-124138: benchmark results - \u001b[39m{'infer_path': 'cl-mnv2_tflitert_tf1-models_mobilenet_v2_1.0_224_tflite', 'accuracy_top1%': 74.0, 'num_subgraphs': 1, 'infer_time_core_ms': 29.988, 'infer_time_subgraph_ms': 29.979, 'ddr_transfer_mb': 0.0, 'perfsim_time_ms': 1.437, 'perfsim_ddr_transfer_mb': 4.33, 'perfsim_gmacs': 0.301}\n",
      "\n",
      "\n"
     ]
    }
   ],
   "source": [
    "# run the model compliation\n",
    "tools.run_accuracy(settings, work_dir, pipeline_configs)"
   ]
  },
  {
   "cell_type": "markdown",
   "id": "7d982aa0",
   "metadata": {},
   "source": [
    "#### Package artifacts\n",
    "\n",
    "Package the artifacts into a .tar.gz file, keeping only the necessary files for inference."
   ]
  },
  {
   "cell_type": "code",
   "execution_count": 11,
   "id": "25a664e6",
   "metadata": {},
   "outputs": [
    {
     "name": "stdout",
     "output_type": "stream",
     "text": [
      "packaging artifacts to /tmp/tmpkcvl8g2k/modelartifacts/8bits_package please wait...\n",
      "\u001b[32mSUCCESS:\u001b[33m20210805-124324: finished packaging - \u001b[39m/tmp/tmpkcvl8g2k/modelartifacts/8bits/cl-mnv2_tflitert_tf1-models_mobilenet_v2_1.0_224_tflite\n"
     ]
    }
   ],
   "source": [
    "out_dir = f'{work_dir}_package'\n",
    "tools.package_artifacts(settings, work_dir, out_dir)"
   ]
  },
  {
   "cell_type": "markdown",
   "id": "f01cc894",
   "metadata": {},
   "source": [
    "#### Download\n",
    "\n",
    "Download the packaged .tar.gz artifact\n",
    "\n",
    "TODO: add a download link here, that the user can click to download the packaged artifact .tar.gz file."
   ]
  },
  {
   "cell_type": "code",
   "execution_count": 12,
   "id": "514f7dac",
   "metadata": {},
   "outputs": [
    {
     "name": "stdout",
     "output_type": "stream",
     "text": [
      "download the atricats files from the folder: /tmp/tmpkcvl8g2k/modelartifacts/8bits_package\n",
      "['cl-mnv2_tflitert_tf1-models_mobilenet_v2_1.0_224_tflite.tar.gz', 'artifacts.yaml', 'extract.sh', 'artifacts.list']\n"
     ]
    }
   ],
   "source": [
    "print(f'download the atricats files from the folder: {out_dir}')\n",
    "print(os.listdir(out_dir))"
   ]
  },
  {
   "cell_type": "markdown",
   "id": "85bad73d",
   "metadata": {},
   "source": [
    "#### Cleanup\n",
    "\n",
    "Remove the temporary folders that we created"
   ]
  },
  {
   "cell_type": "code",
   "execution_count": 13,
   "id": "f6230cab",
   "metadata": {},
   "outputs": [],
   "source": [
    "# cleanup\n",
    "modelartifacts_tempdir.cleanup()"
   ]
  }
 ],
 "metadata": {
  "kernelspec": {
   "display_name": "Python 3",
   "language": "python",
   "name": "python3"
  },
  "language_info": {
   "codemirror_mode": {
    "name": "ipython",
    "version": 3
   },
   "file_extension": ".py",
   "mimetype": "text/x-python",
   "name": "python",
   "nbconvert_exporter": "python",
   "pygments_lexer": "ipython3",
   "version": "3.6.13"
  }
 },
 "nbformat": 4,
 "nbformat_minor": 5
}
